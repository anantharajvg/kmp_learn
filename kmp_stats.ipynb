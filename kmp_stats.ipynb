{
 "cells": [
  {
   "cell_type": "code",
   "execution_count": 1,
   "id": "e4f29dab",
   "metadata": {},
   "outputs": [],
   "source": [
    "import numpy as np\n",
    "import matplotlib.pyplot as plt\n",
    "import netCDF4 as nc\n",
    "import pandas as pd\n",
    "import seaborn as sb"
   ]
  },
  {
   "cell_type": "markdown",
   "id": "810150de",
   "metadata": {},
   "source": [
    "\"\"\"\n",
    "Measuring number of no-op samples\n",
    "\n",
    "ml_in_theta(isample,1) == ml_out_theta(isample) &&\n",
    "ml_in_qv   (isample,1) == ml_out_qv   (isample) && \n",
    "ml_in_qc   (isample,1) == ml_out_qc   (isample) &&\n",
    "ml_in_qr   (isample,1) == ml_out_qr   (isample)\n",
    "\"\"\""
   ]
  },
  {
   "cell_type": "code",
   "execution_count": 2,
   "id": "24b94395",
   "metadata": {},
   "outputs": [],
   "source": [
    "def dataOp(theta_in, theta_out, qv_in, qv_out, qc_in, qc_out, qr_in, qr_out):\n",
    "\n",
    "    print(\"Inside dataOp()\")\n",
    "    \n",
    "    opmask = np.zeros(24000000, dtype=bool)\n",
    "    nopmask = np.zeros(24000000, dtype=bool)\n",
    "    opcount=0\n",
    "    nopcount=0\n",
    "    for i in range(24000000):\n",
    "        if (theta_in[i]!=theta_out[i]) or (qv_in[i]!=qv_out[i]) or (qc_in[i]!=qc_out[i]) or (qr_in[i]!=qr_out[i]):\n",
    "            opcount+=1\n",
    "            opmask[i] = True\n",
    "    print(opcount)\n",
    "\n",
    "    for i in range(24000000):\n",
    "        if (theta_in[i]==theta_out[i]) and (qv_in[i]==qv_out[i]) and (qc_in[i]==qc_out[i]) and (qr_in[i]==qr_out[i]):\n",
    "            nopcount+=1\n",
    "            nopmask[i] = True\n",
    "    print(opcount, nopcount, opcount+nopcount)\n",
    "    \n",
    "    return opmask, nopmask"
   ]
  },
  {
   "cell_type": "code",
   "execution_count": 3,
   "id": "69fb3fb8",
   "metadata": {},
   "outputs": [],
   "source": [
    "def dataOp2(theta_in, theta_out, qv_in, qv_out, qc_in, qc_out, qr_in, qr_out, delta):\n",
    "\n",
    "    print(\"Inside dataOp2()\", delta)\n",
    "    \n",
    "    opmask = np.zeros(24000000, dtype=bool)\n",
    "    nopmask = np.zeros(24000000, dtype=bool)\n",
    "    opcount=0\n",
    "    nopcount=0\n",
    "    #delta = 1E-8\n",
    "    for i in range(24000000):\n",
    "        if ( np.abs(theta_in[i]-theta_out[i]) > delta ) or \\\n",
    "           ( np.abs(qv_in[i]-qv_out[i]) > delta ) or \\\n",
    "           ( np.abs(qc_in[i]-qc_out[i]) > delta ) or \\\n",
    "           ( np.abs(qr_in[i]-qr_out[i]) > delta ):\n",
    "            opcount+=1\n",
    "            opmask[i] = True\n",
    "    print(opcount)\n",
    "\n",
    "    for i in range(24000000):\n",
    "        if ( np.abs(theta_in[i]-theta_out[i]) < delta ) and \\\n",
    "           ( np.abs(qv_in[i]-qv_out[i]) < delta ) and \\\n",
    "           ( np.abs(qc_in[i]-qc_out[i]) < delta ) and \\\n",
    "           ( np.abs(qr_in[i]-qr_out[i]) < delta ):\n",
    "            nopcount+=1\n",
    "            nopmask[i] = True\n",
    "    print(opcount, nopcount, opcount+nopcount)\n",
    "    \n",
    "    return opmask, nopmask"
   ]
  },
  {
   "cell_type": "code",
   "execution_count": 4,
   "id": "9316aad4",
   "metadata": {},
   "outputs": [],
   "source": [
    "path='/raid/vga/kessler_ml_data_flat.nc'\n",
    "ds=nc.Dataset(path)"
   ]
  },
  {
   "cell_type": "code",
   "execution_count": 5,
   "id": "b0065b89",
   "metadata": {},
   "outputs": [],
   "source": [
    "num1, num2 = 0, 24000000\n",
    "theta_in = ds['ml_in_theta'][:,1]\n",
    "qc_in = ds['ml_in_qc'][num1:num2,1]\n",
    "qv_in = ds['ml_in_qv'][num1:num2,1]\n",
    "qr_in = ds['ml_in_qr'][num1:num2,1]\n",
    "rho_dry_in = ds['ml_in_rho_dry'][num1:num2,1]\n",
    "z_in = ds['ml_in_z'][num1:num2]\n",
    "exner_in = ds['ml_in_exner'][num1:num2,1]\n",
    "theta_out = ds['ml_out_theta'][num1:num2]\n",
    "qc_out = ds['ml_out_qc'][num1:num2]\n",
    "qv_out = ds['ml_out_qv'][num1:num2]\n",
    "qr_out = ds['ml_out_qr'][num1:num2]"
   ]
  },
  {
   "cell_type": "markdown",
   "id": "8c11e989",
   "metadata": {},
   "source": [
    "The results below:\n",
    "\n",
    "[dop1]  18788114 5211886  \n",
    "[dop2]  1059246 22940754 1e-8  \n",
    "[dop2]  1257988 22742012 1e-10  \n",
    "[dop2]  1494472 22505528 1e-12  \n",
    "[dop2]  1702636 22297364 1e-14  \n",
    "[dop2]  1702636 22297364 1e-15 \n",
    "[dop2]  1702636 22297364 1e-16  \n"
   ]
  },
  {
   "cell_type": "code",
   "execution_count": 6,
   "id": "19fb76bf",
   "metadata": {},
   "outputs": [
    {
     "name": "stdout",
     "output_type": "stream",
     "text": [
      "Inside dataOp2() 1e-16\n",
      "1702636\n",
      "1702636 22297364 24000000\n",
      "[dop2]  1702636 22297364 1e-16\n"
     ]
    }
   ],
   "source": [
    "#opmask, nopmask = dataOp(theta_in, theta_out, qv_in, qv_out, qc_in, qc_out, qr_in, qr_out)\n",
    "#print(\"[dop1] \", np.sum(opmask), np.sum(nopmask))\n",
    "\n",
    "delta = 1E-16\n",
    "opmask2, nopmask2 = dataOp2(theta_in, theta_out, qv_in, qv_out, qc_in, qc_out, \\\n",
    "                            qr_in, qr_out, delta)\n",
    "print(\"[dop2] \", np.sum(opmask2), np.sum(nopmask2), delta)"
   ]
  },
  {
   "cell_type": "code",
   "execution_count": 12,
   "id": "ffc9d255",
   "metadata": {},
   "outputs": [],
   "source": [
    "np.save('opmask2.npy', opmask2)\n",
    "np.save('nopmask2.npy', nopmask2)"
   ]
  },
  {
   "cell_type": "code",
   "execution_count": 11,
   "id": "d8c3fe13",
   "metadata": {},
   "outputs": [
    {
     "name": "stdout",
     "output_type": "stream",
     "text": [
      "[qc]  2.974747786606549e-13 0.0\n",
      "[qv]  52089.97395831689 52089.9739583169\n",
      "[qr]  1.7362233776116805e-13 2.38755e-318\n"
     ]
    }
   ],
   "source": [
    "print( \"[qc] \", np.sum(np.abs(qc_in[nopmask2])), np.sum(np.abs(qc_out[nopmask2])) )\n",
    "print( \"[qv] \", np.sum(np.abs(qv_in[nopmask2])), np.sum(np.abs(qv_out[nopmask2])) )\n",
    "print( \"[qr] \", np.sum(np.abs(qr_in[nopmask2])), np.sum(np.abs(qr_out[nopmask2])) )"
   ]
  },
  {
   "cell_type": "code",
   "execution_count": 16,
   "id": "19f04c6c",
   "metadata": {},
   "outputs": [
    {
     "name": "stdout",
     "output_type": "stream",
     "text": [
      "[dqc]  2.974747786606549e-13\n",
      "[dqv]  5.351217651503384e-13\n",
      "[dqr]  1.7362233776116805e-13\n"
     ]
    }
   ],
   "source": [
    "print( \"[dqc] \", np.sum( np.abs(qc_in[nopmask2] - qc_out[nopmask2]) ) )\n",
    "print( \"[dqv] \", np.sum( np.abs(qv_in[nopmask2] - qv_out[nopmask2]) ) )\n",
    "print( \"[dqr] \", np.sum( np.abs(qr_in[nopmask2] - qr_out[nopmask2]) ) )"
   ]
  },
  {
   "cell_type": "code",
   "execution_count": 17,
   "id": "2d44c2d7",
   "metadata": {},
   "outputs": [
    {
     "name": "stdout",
     "output_type": "stream",
     "text": [
      "[qc]  141.7148585429016 140.65517154588522\n",
      "[qv]  5001.335752187428 4961.927093145766\n",
      "[qr]  603.1845752986519 598.0151605888512\n"
     ]
    }
   ],
   "source": [
    "print( \"[qc] \", np.sum(np.abs(qc_in[opmask2])), np.sum(np.abs(qc_out[opmask2])) )\n",
    "print( \"[qv] \", np.sum(np.abs(qv_in[opmask2])), np.sum(np.abs(qv_out[opmask2])) )\n",
    "print( \"[qr] \", np.sum(np.abs(qr_in[opmask2])), np.sum(np.abs(qr_out[opmask2])) )"
   ]
  },
  {
   "cell_type": "code",
   "execution_count": 18,
   "id": "8b048b67",
   "metadata": {},
   "outputs": [
    {
     "name": "stdout",
     "output_type": "stream",
     "text": [
      "[dqc]  26.309639413255496\n",
      "[dqv]  60.63209451999513\n",
      "[dqr]  121.72817254607185\n"
     ]
    }
   ],
   "source": [
    "print( \"[dqc] \", np.sum( np.abs(qc_in[opmask2] - qc_out[opmask2]) ) )\n",
    "print( \"[dqv] \", np.sum( np.abs(qv_in[opmask2] - qv_out[opmask2]) ) )\n",
    "print( \"[dqr] \", np.sum( np.abs(qr_in[opmask2] - qr_out[opmask2]) ) )"
   ]
  },
  {
   "cell_type": "code",
   "execution_count": 67,
   "id": "72d1c467",
   "metadata": {
    "scrolled": false
   },
   "outputs": [
    {
     "data": {
      "image/png": "[encoded data removed]",
      "text/plain": [
       "<Figure size 432x288 with 1 Axes>"
      ]
     },
     "metadata": {
      "needs_background": "light"
     },
     "output_type": "display_data"
    }
   ],
   "source": [
    "xqv=plt.hist(qv_in[opmask2], bins=100, density=True, range=(0,1E-4))\n"
   ]
  },
  {
   "cell_type": "code",
   "execution_count": 74,
   "id": "ffeee0d1",
   "metadata": {
    "scrolled": true
   },
   "outputs": [
    {
     "data": {
      "image/png": "[encoded data removed]",
      "text/plain": [
       "<Figure size 432x288 with 1 Axes>"
      ]
     },
     "metadata": {
      "needs_background": "light"
     },
     "output_type": "display_data"
    }
   ],
   "source": [
    "xqc = plt.hist(qc_in[opmask2], bins=100, density=True, range=(0,1E-12))"
   ]
  },
  {
   "cell_type": "code",
   "execution_count": 69,
   "id": "1e66f9d1",
   "metadata": {},
   "outputs": [
    {
     "data": {
      "image/png": "[encoded data removed]",
      "text/plain": [
       "<Figure size 432x288 with 1 Axes>"
      ]
     },
     "metadata": {
      "needs_background": "light"
     },
     "output_type": "display_data"
    }
   ],
   "source": [
    "xqr = plt.hist(qr_in[opmask2], bins=100, density=True, range=(0,1E-12))"
   ]
  },
  {
   "cell_type": "code",
   "execution_count": 109,
   "id": "471d924c",
   "metadata": {},
   "outputs": [
    {
     "data": {
      "image/png": "[encoded data removed]",
      "text/plain": [
       "<Figure size 432x288 with 1 Axes>"
      ]
     },
     "metadata": {
      "needs_background": "light"
     },
     "output_type": "display_data"
    }
   ],
   "source": [
    "xx = plt.hist2d(qv_in[opmask2], z_in[opmask2], bins=(20,20), cmap=plt.cm.BuPu)"
   ]
  },
  {
   "cell_type": "code",
   "execution_count": 111,
   "id": "7c610264",
   "metadata": {},
   "outputs": [
    {
     "data": {
      "image/png": "[encoded data removed]",
      "text/plain": [
       "<Figure size 432x288 with 1 Axes>"
      ]
     },
     "metadata": {
      "needs_background": "light"
     },
     "output_type": "display_data"
    }
   ],
   "source": [
    "xx = plt.hist2d(qv_in[nopmask2], z_in[nopmask2], bins=(20,20), cmap=plt.cm.BuPu)"
   ]
  },
  {
   "cell_type": "code",
   "execution_count": 110,
   "id": "3aff520d",
   "metadata": {},
   "outputs": [
    {
     "data": {
      "image/png": "[encoded data removed]",
      "text/plain": [
       "<Figure size 432x288 with 1 Axes>"
      ]
     },
     "metadata": {
      "needs_background": "light"
     },
     "output_type": "display_data"
    }
   ],
   "source": [
    "xx = plt.hist2d(qv_in[opmask2], qr_in[opmask2], bins=(20,20), cmap=plt.cm.BuPu)"
   ]
  },
  {
   "cell_type": "code",
   "execution_count": 112,
   "id": "ea0209c5",
   "metadata": {},
   "outputs": [
    {
     "data": {
      "image/png": "[encoded data removed]",
      "text/plain": [
       "<Figure size 432x288 with 1 Axes>"
      ]
     },
     "metadata": {
      "needs_background": "light"
     },
     "output_type": "display_data"
    }
   ],
   "source": [
    "xx = plt.hist2d(qv_in[nopmask2], qr_in[nopmask2], bins=(20,20), cmap=plt.cm.BuPu)"
   ]
  },
  {
   "cell_type": "code",
   "execution_count": null,
   "id": "5ee4a6ff",
   "metadata": {},
   "outputs": [],
   "source": []
  }
 ],
 "metadata": {
  "kernelspec": {
   "display_name": "Python 3",
   "language": "python",
   "name": "python3"
  },
  "language_info": {
   "codemirror_mode": {
    "name": "ipython",
    "version": 3
   },
   "file_extension": ".py",
   "mimetype": "text/x-python",
   "name": "python",
   "nbconvert_exporter": "python",
   "pygments_lexer": "ipython3",
   "version": "3.9.5"
  }
 },
 "nbformat": 4,
 "nbformat_minor": 5
}
